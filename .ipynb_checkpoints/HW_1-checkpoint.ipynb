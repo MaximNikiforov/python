{
 "cells": [
  {
   "cell_type": "markdown",
   "id": "de1e1cbe-5491-4ace-9b8f-1110934de625",
   "metadata": {},
   "source": [
    "## Задача 1:\n",
    "На складе лежат разные фрукты в разном количестве.\n",
    "Нужно написать функцию, которая на вход принимает любое количество названий фруктов и их количество, а возвращает общее количество фруктов на складе"
   ]
  },
  {
   "cell_type": "code",
   "execution_count": 1,
   "id": "0402a6ae-cb26-4066-a801-9bd445c81bad",
   "metadata": {
    "tags": []
   },
   "outputs": [],
   "source": [
    "def sum_fruits(**kwargs):\n",
    "    return f'Количество фруктов: {sum(kwargs.values())}'"
   ]
  },
  {
   "cell_type": "code",
   "execution_count": 2,
   "id": "d436f350-c1e9-424f-97e8-570772120b04",
   "metadata": {
    "tags": []
   },
   "outputs": [
    {
     "data": {
      "text/plain": [
       "'Количество фруктов: 27'"
      ]
     },
     "execution_count": 2,
     "metadata": {},
     "output_type": "execute_result"
    }
   ],
   "source": [
    "sum_fruits(Груши = 5, Яблоки = 7, Апельсины = 15)"
   ]
  },
  {
   "cell_type": "markdown",
   "id": "30388bbf-0651-4bef-9e3b-9b8599701b26",
   "metadata": {},
   "source": [
    "## Задача 2:\n",
    "Дан список с затратами на рекламу. Но в данных есть ошибки, некоторые затраты имеют отрицательную величину. Удалите такие значения из списка и посчитайте суммарные затраты\n",
    "[100, 125, -90, 345, 655, -1, 0, 200]\n",
    "Используйте list comprehensions"
   ]
  },
  {
   "cell_type": "code",
   "execution_count": 3,
   "id": "d464014c-045a-4de2-9e36-9ec7f634847c",
   "metadata": {
    "tags": []
   },
   "outputs": [],
   "source": [
    "def expenses(data: list) -> int:\n",
    "    data_new = [i for i in data if i > 0]\n",
    "    return f'Суммарные затраты: {sum(data_new)}'"
   ]
  },
  {
   "cell_type": "code",
   "execution_count": 4,
   "id": "41df6306-b1b2-4a1c-b754-9970e06cb8d9",
   "metadata": {
    "tags": []
   },
   "outputs": [
    {
     "data": {
      "text/plain": [
       "'Суммарные затраты: 1425'"
      ]
     },
     "execution_count": 4,
     "metadata": {},
     "output_type": "execute_result"
    }
   ],
   "source": [
    "expenses([100, 125, -90, 345, 655, -1, 0, 200])"
   ]
  },
  {
   "cell_type": "markdown",
   "id": "b008e0c4-d9d3-46cc-a8cf-708760e207f8",
   "metadata": {},
   "source": [
    "## Задача 3:\n",
    "Даны два списка.\n",
    "Дата покупки\n",
    "['2021-09-14', '2021-12-15', '2021-09-08', '2021-12-05', '2021-10-09', '2021-09-30', '2021-12-22', '2021-11-29', '2021-12-24', '2021-11-26', '2021-10-27', '2021-12-18', '2021-11-09', '2021-11-23', '2021-09-27', '2021-10-02', '2021-12-27', '2021-09-20', '2021-12-13', '2021-11-01', '2021-11-09', '2021-12-06', '2021-12-08', '2021-10-09', '2021-10-31', '2021-09-30', '2021-11-09', '2021-12-13', '2021-10-26', '2021-12-09']\n",
    "Суммы покупок по датам\n",
    "[1270, 8413, 9028, 3703, 5739, 4095, 295, 4944, 5723, 3701, 4471, 651, 7037, 4274, 6275, 4988, 6930, 2971, 6592, 2004, 2822, 519, 3406, 2732, 5015, 2008, 316, 6333, 5700, 2887]\n",
    "### 3.1.\n",
    "Найдите, какая выручка у компании в ноябре\n",
    "Используйте list comprehensions"
   ]
  },
  {
   "cell_type": "code",
   "execution_count": 5,
   "id": "76d2bd24-740c-4ca7-9dc0-dbe5d7707c07",
   "metadata": {
    "tags": []
   },
   "outputs": [],
   "source": [
    "date = ['2021-09-14', '2021-12-15', '2021-09-08', '2021-12-05', '2021-10-09', \n",
    "        '2021-09-30', '2021-12-22', '2021-11-29', '2021-12-24', '2021-11-26', \n",
    "        '2021-10-27', '2021-12-18', '2021-11-09', '2021-11-23', '2021-09-27', \n",
    "        '2021-10-02', '2021-12-27', '2021-09-20', '2021-12-13', '2021-11-01', \n",
    "        '2021-11-09', '2021-12-06', '2021-12-08', '2021-10-09', '2021-10-31', \n",
    "        '2021-09-30', '2021-11-09', '2021-12-13', '2021-10-26', '2021-12-09']\n",
    "cost = [1270, 8413, 9028, 3703, 5739, 4095, 295, 4944, 5723, 3701, \n",
    "        4471, 651, 7037, 4274, 6275, 4988, 6930, 2971, 6592, 2004, \n",
    "        2822, 519, 3406, 2732, 5015, 2008, 316, 6333, 5700, 2887]"
   ]
  },
  {
   "cell_type": "code",
   "execution_count": 6,
   "id": "344bb75d-52d2-41cd-bf2e-489abf47a64b",
   "metadata": {
    "tags": []
   },
   "outputs": [],
   "source": [
    "def revenue(date: list, cost: list, month: int) -> list:\n",
    "    cost_month = [cost[i] for i in range(0, len(date)) if \"-\"+str(month)+\"-\" in date[i]]\n",
    "    return f'Выручка в {month} месяце: {sum(cost_month)}'"
   ]
  },
  {
   "cell_type": "code",
   "execution_count": 7,
   "id": "4b98fc69-10b2-426b-b5fa-d85dd3822dd9",
   "metadata": {
    "tags": []
   },
   "outputs": [
    {
     "data": {
      "text/plain": [
       "'Выручка в 11 месяце: 25098'"
      ]
     },
     "execution_count": 7,
     "metadata": {},
     "output_type": "execute_result"
    }
   ],
   "source": [
    "revenue(date, cost, 11)"
   ]
  },
  {
   "cell_type": "markdown",
   "id": "366a94ec-36b0-4199-a5a3-2661046ac1cc",
   "metadata": {},
   "source": [
    "### 3.2.\n",
    "Найдите выручку компании в зависимости от месяца\n",
    "Для этого напишите функцию, которая на вход принимает список с датами и список с выручкой, а на выходе словарь, где ключи - это месяцы, а значения - это выручка.\n",
    "Используйте аннотирование типов."
   ]
  },
  {
   "cell_type": "code",
   "execution_count": 8,
   "id": "fc2b89c9-d17a-4893-8be7-d1eb8a6f64ae",
   "metadata": {
    "tags": []
   },
   "outputs": [
    {
     "name": "stdout",
     "output_type": "stream",
     "text": [
      "{'09': 25647, '12': 45452, '10': 28645, '11': 25098}\n"
     ]
    }
   ],
   "source": [
    "def profits(data1: list, data2: list) -> dict:\n",
    "    \n",
    "    profits = {}\n",
    "    \n",
    "    for i in range(len(data1)):\n",
    "        \n",
    "        if date[i].split('-')[1] in profits.keys():\n",
    "            profits[date[i].split('-')[1]] += cost[i]\n",
    "        else:\n",
    "            profits[date[i].split('-')[1]] = cost[i]\n",
    "            \n",
    "    return profits\n",
    "\n",
    "print(profits(date, cost))"
   ]
  },
  {
   "cell_type": "code",
   "execution_count": null,
   "id": "38291155-b0e8-4cc5-a6e7-bd61f7cb2c6b",
   "metadata": {},
   "outputs": [],
   "source": []
  }
 ],
 "metadata": {
  "kernelspec": {
   "display_name": "Python 3 (ipykernel)",
   "language": "python",
   "name": "python3"
  },
  "language_info": {
   "codemirror_mode": {
    "name": "ipython",
    "version": 3
   },
   "file_extension": ".py",
   "mimetype": "text/x-python",
   "name": "python",
   "nbconvert_exporter": "python",
   "pygments_lexer": "ipython3",
   "version": "3.11.1"
  }
 },
 "nbformat": 4,
 "nbformat_minor": 5
}
